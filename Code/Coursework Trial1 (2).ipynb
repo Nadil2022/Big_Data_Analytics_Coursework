{
 "cells": [
  {
   "cell_type": "code",
   "execution_count": 1,
   "id": "5b3cd46f-18b2-407e-8801-8594f821fc90",
   "metadata": {},
   "outputs": [],
   "source": [
    "import pandas as pd"
   ]
  },
  {
   "cell_type": "code",
   "execution_count": 2,
   "id": "e8c90117-1e24-437c-adb8-9a99b8f34969",
   "metadata": {},
   "outputs": [],
   "source": [
    "# Load the dataset\n",
    "# file_path = \"C://Users//ASUS//Downloads//global_water_consumption.csv\"  \n",
    "df = pd.read_csv(\"data.csv\")"
   ]
  },
  {
   "cell_type": "code",
   "execution_count": 3,
   "id": "fbf30aae-2963-4973-b4d0-6a7cbd00acac",
   "metadata": {},
   "outputs": [
    {
     "data": {
      "text/html": [
       "<div>\n",
       "<style scoped>\n",
       "    .dataframe tbody tr th:only-of-type {\n",
       "        vertical-align: middle;\n",
       "    }\n",
       "\n",
       "    .dataframe tbody tr th {\n",
       "        vertical-align: top;\n",
       "    }\n",
       "\n",
       "    .dataframe thead th {\n",
       "        text-align: right;\n",
       "    }\n",
       "</style>\n",
       "<table border=\"1\" class=\"dataframe\">\n",
       "  <thead>\n",
       "    <tr style=\"text-align: right;\">\n",
       "      <th></th>\n",
       "      <th>Country</th>\n",
       "      <th>Year</th>\n",
       "      <th>Total Water Consumption (Billion Cubic Meters)</th>\n",
       "      <th>Per Capita Water Use (Liters per Day)</th>\n",
       "      <th>Water Scarcity Level</th>\n",
       "      <th>Agricultural Water Use (%)</th>\n",
       "      <th>Industrial Water Use (%)</th>\n",
       "      <th>Household Water Use (%)</th>\n",
       "      <th>Rainfall Impact (Annual Precipitation in mm)</th>\n",
       "      <th>Groundwater Depletion Rate (%)</th>\n",
       "    </tr>\n",
       "  </thead>\n",
       "  <tbody>\n",
       "    <tr>\n",
       "      <th>0</th>\n",
       "      <td>Indonesia</td>\n",
       "      <td>2022</td>\n",
       "      <td>895.15</td>\n",
       "      <td>489.73</td>\n",
       "      <td>Low</td>\n",
       "      <td>20.78</td>\n",
       "      <td>13.75</td>\n",
       "      <td>34.99</td>\n",
       "      <td>1075.28</td>\n",
       "      <td>3.10</td>\n",
       "    </tr>\n",
       "    <tr>\n",
       "      <th>1</th>\n",
       "      <td>Indonesia</td>\n",
       "      <td>2024</td>\n",
       "      <td>502.89</td>\n",
       "      <td>311.95</td>\n",
       "      <td>High</td>\n",
       "      <td>48.51</td>\n",
       "      <td>8.44</td>\n",
       "      <td>32.88</td>\n",
       "      <td>2630.69</td>\n",
       "      <td>1.78</td>\n",
       "    </tr>\n",
       "    <tr>\n",
       "      <th>2</th>\n",
       "      <td>Spain</td>\n",
       "      <td>2000</td>\n",
       "      <td>843.39</td>\n",
       "      <td>440.09</td>\n",
       "      <td>Medium</td>\n",
       "      <td>25.16</td>\n",
       "      <td>31.70</td>\n",
       "      <td>34.62</td>\n",
       "      <td>2860.62</td>\n",
       "      <td>4.13</td>\n",
       "    </tr>\n",
       "    <tr>\n",
       "      <th>3</th>\n",
       "      <td>Canada</td>\n",
       "      <td>2021</td>\n",
       "      <td>803.34</td>\n",
       "      <td>478.98</td>\n",
       "      <td>High</td>\n",
       "      <td>45.74</td>\n",
       "      <td>6.13</td>\n",
       "      <td>18.99</td>\n",
       "      <td>1725.50</td>\n",
       "      <td>0.61</td>\n",
       "    </tr>\n",
       "    <tr>\n",
       "      <th>4</th>\n",
       "      <td>Brazil</td>\n",
       "      <td>2022</td>\n",
       "      <td>416.40</td>\n",
       "      <td>353.91</td>\n",
       "      <td>High</td>\n",
       "      <td>26.58</td>\n",
       "      <td>7.95</td>\n",
       "      <td>31.11</td>\n",
       "      <td>988.44</td>\n",
       "      <td>0.80</td>\n",
       "    </tr>\n",
       "  </tbody>\n",
       "</table>\n",
       "</div>"
      ],
      "text/plain": [
       "     Country  Year  Total Water Consumption (Billion Cubic Meters)  \\\n",
       "0  Indonesia  2022                                          895.15   \n",
       "1  Indonesia  2024                                          502.89   \n",
       "2      Spain  2000                                          843.39   \n",
       "3     Canada  2021                                          803.34   \n",
       "4     Brazil  2022                                          416.40   \n",
       "\n",
       "   Per Capita Water Use (Liters per Day) Water Scarcity Level  \\\n",
       "0                                 489.73                  Low   \n",
       "1                                 311.95                 High   \n",
       "2                                 440.09               Medium   \n",
       "3                                 478.98                 High   \n",
       "4                                 353.91                 High   \n",
       "\n",
       "   Agricultural Water Use (%)  Industrial Water Use (%)  \\\n",
       "0                       20.78                     13.75   \n",
       "1                       48.51                      8.44   \n",
       "2                       25.16                     31.70   \n",
       "3                       45.74                      6.13   \n",
       "4                       26.58                      7.95   \n",
       "\n",
       "   Household Water Use (%)  Rainfall Impact (Annual Precipitation in mm)  \\\n",
       "0                    34.99                                       1075.28   \n",
       "1                    32.88                                       2630.69   \n",
       "2                    34.62                                       2860.62   \n",
       "3                    18.99                                       1725.50   \n",
       "4                    31.11                                        988.44   \n",
       "\n",
       "   Groundwater Depletion Rate (%)  \n",
       "0                            3.10  \n",
       "1                            1.78  \n",
       "2                            4.13  \n",
       "3                            0.61  \n",
       "4                            0.80  "
      ]
     },
     "execution_count": 3,
     "metadata": {},
     "output_type": "execute_result"
    }
   ],
   "source": [
    "# View first few rows\n",
    "df.head()"
   ]
  },
  {
   "cell_type": "code",
   "execution_count": 4,
   "id": "e477b825-7bd3-4d01-bd62-e4efebcfe0d4",
   "metadata": {},
   "outputs": [
    {
     "name": "stdout",
     "output_type": "stream",
     "text": [
      "Missing values per column:\n",
      " Country                                           0\n",
      "Year                                              0\n",
      "Total Water Consumption (Billion Cubic Meters)    0\n",
      "Per Capita Water Use (Liters per Day)             0\n",
      "Water Scarcity Level                              0\n",
      "Agricultural Water Use (%)                        0\n",
      "Industrial Water Use (%)                          0\n",
      "Household Water Use (%)                           0\n",
      "Rainfall Impact (Annual Precipitation in mm)      0\n",
      "Groundwater Depletion Rate (%)                    0\n",
      "dtype: int64\n"
     ]
    }
   ],
   "source": [
    "# Check for missing values\n",
    "print(\"Missing values per column:\\n\", df.isnull().sum())"
   ]
  },
  {
   "cell_type": "code",
   "execution_count": 5,
   "id": "02ab242b-b4ba-47fd-9ce4-da5f0b3f61fe",
   "metadata": {},
   "outputs": [
    {
     "name": "stdout",
     "output_type": "stream",
     "text": [
      "Number of duplicate rows: 0\n"
     ]
    }
   ],
   "source": [
    "# Check for duplicates\n",
    "print(\"Number of duplicate rows:\", df.duplicated().sum())"
   ]
  },
  {
   "cell_type": "code",
   "execution_count": 6,
   "id": "96a10c21-da65-4b6c-9458-312b888e5f5e",
   "metadata": {},
   "outputs": [],
   "source": [
    "# Clean column names\n",
    "df.columns = (\n",
    "    df.columns\n",
    "    .str.strip()\n",
    "    .str.lower()\n",
    "    .str.replace(' ', '_')\n",
    "    .str.replace('(', '')\n",
    "    .str.replace(')', '')\n",
    ")"
   ]
  },
  {
   "cell_type": "code",
   "execution_count": 7,
   "id": "5a8cf6d2-02ee-4ba9-9112-a4ad16a8dbd6",
   "metadata": {},
   "outputs": [],
   "source": [
    "# Step 5: Clip and Normalize Percentage Columns\n",
    "percentage_cols = ['agricultural_water_use_%', 'industrial_water_use_%', 'household_water_use_%']\n",
    "\n",
    "# Clip values to ensure they are within 0–100%\n",
    "df[percentage_cols] = df[percentage_cols].clip(0, 100)\n",
    "\n",
    "# Normalize the percentage columns so they sum to 100%\n",
    "df[percentage_cols] = (df[percentage_cols].div(df[percentage_cols].sum(axis=1), axis=0) * 100)\n"
   ]
  },
  {
   "cell_type": "code",
   "execution_count": 8,
   "id": "482701a9-4d41-407c-a135-09742815d9b9",
   "metadata": {},
   "outputs": [],
   "source": [
    "# Convert 'water_scarcity_level' to numeric values\n",
    "scarcity_mapping = {'Low': 0, 'Medium': 1, 'High': 2}\n",
    "df['water_scarcity_level_numeric'] = df['water_scarcity_level'].map(scarcity_mapping)\n"
   ]
  },
  {
   "cell_type": "code",
   "execution_count": 9,
   "id": "1701cdeb-d396-46db-b389-8e533d1073bf",
   "metadata": {},
   "outputs": [],
   "source": [
    "# 1. Binary feature for high scarcity\n",
    "df['is_high_scarcity'] = df['water_scarcity_level_numeric'] == 2"
   ]
  },
  {
   "cell_type": "code",
   "execution_count": 10,
   "id": "7a6b2266-a096-4afd-a4e9-4af793c08bd1",
   "metadata": {},
   "outputs": [],
   "source": [
    "# Assign unique incremental codes for each country\n",
    "country_mapping = {}\n",
    "country_counter = 11  # Start from 11\n",
    "\n",
    "def encode_country(country):\n",
    "    global country_counter\n",
    "    if country not in country_mapping:\n",
    "        country_mapping[country] = country_counter\n",
    "        country_counter += 1\n",
    "    return country_mapping[country]\n",
    "\n",
    "# Use lowercase 'country' as column name\n",
    "df['country_code'] = df['country'].apply(encode_country)\n"
   ]
  },
  {
   "cell_type": "code",
   "execution_count": 11,
   "id": "1d663dea-2365-4c6b-8eea-e8a51671fcb8",
   "metadata": {},
   "outputs": [],
   "source": [
    "# 2. Water use efficiency: total consumption / rainfall\n",
    "df['water_use_efficiency'] = df['total_water_consumption_billion_cubic_meters'] / df['rainfall_impact_annual_precipitation_in_mm']"
   ]
  },
  {
   "cell_type": "code",
   "execution_count": 12,
   "id": "711507c2-8c18-40a1-a03d-1b35627735aa",
   "metadata": {},
   "outputs": [],
   "source": [
    "# 3. Total percentage of sectoral water use (should be around 100%)\n",
    "df['total_sector_use_%'] = (\n",
    "    df['agricultural_water_use_%'] +\n",
    "    df['industrial_water_use_%'] +\n",
    "    df['household_water_use_%']\n",
    ")"
   ]
  },
  {
   "cell_type": "code",
   "execution_count": 13,
   "id": "9a2d47e5-f16e-42fd-8f23-f4e6ba2516d3",
   "metadata": {},
   "outputs": [],
   "source": [
    "from sklearn.preprocessing import StandardScaler"
   ]
  },
  {
   "cell_type": "code",
   "execution_count": 14,
   "id": "06f49810-dfe4-4543-a780-3cefcca9fa2e",
   "metadata": {},
   "outputs": [],
   "source": [
    "# Define the numerical columns you want to scale\n",
    "num_cols = [\n",
    "    'total_water_consumption_billion_cubic_meters',\n",
    "    'per_capita_water_use_liters_per_day',\n",
    "    'rainfall_impact_annual_precipitation_in_mm',\n",
    "    'groundwater_depletion_rate_%'\n",
    "]"
   ]
  },
  {
   "cell_type": "code",
   "execution_count": 15,
   "id": "dfd928f1-e966-4244-92aa-293624203ddb",
   "metadata": {},
   "outputs": [],
   "source": [
    "# Initialize the scaler\n",
    "scaler = StandardScaler()"
   ]
  },
  {
   "cell_type": "code",
   "execution_count": 16,
   "id": "a7b67b58-5b63-4f92-bb0d-b7cc99124eb4",
   "metadata": {},
   "outputs": [],
   "source": [
    "# Fit and transform the numerical columns\n",
    "df[num_cols] = scaler.fit_transform(df[num_cols])"
   ]
  },
  {
   "cell_type": "code",
   "execution_count": 17,
   "id": "ad82cc23-8ff6-4a39-809b-d0adfab7df1f",
   "metadata": {
    "scrolled": true
   },
   "outputs": [
    {
     "data": {
      "text/html": [
       "<div>\n",
       "<style scoped>\n",
       "    .dataframe tbody tr th:only-of-type {\n",
       "        vertical-align: middle;\n",
       "    }\n",
       "\n",
       "    .dataframe tbody tr th {\n",
       "        vertical-align: top;\n",
       "    }\n",
       "\n",
       "    .dataframe thead th {\n",
       "        text-align: right;\n",
       "    }\n",
       "</style>\n",
       "<table border=\"1\" class=\"dataframe\">\n",
       "  <thead>\n",
       "    <tr style=\"text-align: right;\">\n",
       "      <th></th>\n",
       "      <th>total_water_consumption_billion_cubic_meters</th>\n",
       "      <th>per_capita_water_use_liters_per_day</th>\n",
       "      <th>rainfall_impact_annual_precipitation_in_mm</th>\n",
       "      <th>groundwater_depletion_rate_%</th>\n",
       "    </tr>\n",
       "  </thead>\n",
       "  <tbody>\n",
       "    <tr>\n",
       "      <th>0</th>\n",
       "      <td>1.377109</td>\n",
       "      <td>1.645835</td>\n",
       "      <td>-0.564455</td>\n",
       "      <td>0.369538</td>\n",
       "    </tr>\n",
       "    <tr>\n",
       "      <th>1</th>\n",
       "      <td>-0.002003</td>\n",
       "      <td>0.276616</td>\n",
       "      <td>1.293606</td>\n",
       "      <td>-0.559027</td>\n",
       "    </tr>\n",
       "    <tr>\n",
       "      <th>2</th>\n",
       "      <td>1.195131</td>\n",
       "      <td>1.263520</td>\n",
       "      <td>1.568275</td>\n",
       "      <td>1.094100</td>\n",
       "    </tr>\n",
       "    <tr>\n",
       "      <th>3</th>\n",
       "      <td>1.054322</td>\n",
       "      <td>1.563041</td>\n",
       "      <td>0.212285</td>\n",
       "      <td>-1.382073</td>\n",
       "    </tr>\n",
       "    <tr>\n",
       "      <th>4</th>\n",
       "      <td>-0.306085</td>\n",
       "      <td>0.599782</td>\n",
       "      <td>-0.668192</td>\n",
       "      <td>-1.248416</td>\n",
       "    </tr>\n",
       "  </tbody>\n",
       "</table>\n",
       "</div>"
      ],
      "text/plain": [
       "   total_water_consumption_billion_cubic_meters  \\\n",
       "0                                      1.377109   \n",
       "1                                     -0.002003   \n",
       "2                                      1.195131   \n",
       "3                                      1.054322   \n",
       "4                                     -0.306085   \n",
       "\n",
       "   per_capita_water_use_liters_per_day  \\\n",
       "0                             1.645835   \n",
       "1                             0.276616   \n",
       "2                             1.263520   \n",
       "3                             1.563041   \n",
       "4                             0.599782   \n",
       "\n",
       "   rainfall_impact_annual_precipitation_in_mm  groundwater_depletion_rate_%  \n",
       "0                                   -0.564455                      0.369538  \n",
       "1                                    1.293606                     -0.559027  \n",
       "2                                    1.568275                      1.094100  \n",
       "3                                    0.212285                     -1.382073  \n",
       "4                                   -0.668192                     -1.248416  "
      ]
     },
     "execution_count": 17,
     "metadata": {},
     "output_type": "execute_result"
    }
   ],
   "source": [
    "# Display the scaled values\n",
    "df[num_cols].head()"
   ]
  },
  {
   "cell_type": "code",
   "execution_count": 18,
   "id": "1aacfd7c-49cd-46f9-a85c-2eb4b64e9c36",
   "metadata": {},
   "outputs": [
    {
     "name": "stdout",
     "output_type": "stream",
     "text": [
      "     country  year  total_water_consumption_billion_cubic_meters  \\\n",
      "0  Indonesia  2022                                      1.377109   \n",
      "1  Indonesia  2024                                     -0.002003   \n",
      "2      Spain  2000                                      1.195131   \n",
      "3     Canada  2021                                      1.054322   \n",
      "4     Brazil  2022                                     -0.306085   \n",
      "5     Turkey  2018                                     -0.934079   \n",
      "6     Turkey  2007                                     -0.321484   \n",
      "7    Germany  2014                                      1.140882   \n",
      "8      Spain  2020                                     -0.942587   \n",
      "9     France  2014                                      0.090463   \n",
      "\n",
      "   per_capita_water_use_liters_per_day water_scarcity_level  \\\n",
      "0                             1.645835                  Low   \n",
      "1                             0.276616                 High   \n",
      "2                             1.263520               Medium   \n",
      "3                             1.563041                 High   \n",
      "4                             0.599782                 High   \n",
      "5                             0.161629               Medium   \n",
      "6                            -1.728691                  Low   \n",
      "7                            -1.602151                  Low   \n",
      "8                            -1.044775                 High   \n",
      "9                            -1.096223                 High   \n",
      "\n",
      "   agricultural_water_use_%  industrial_water_use_%  household_water_use_%  \\\n",
      "0                 29.890679               19.778481              50.330840   \n",
      "1                 54.002004                9.395525              36.602471   \n",
      "2                 27.503279               34.652383              37.844338   \n",
      "3                 64.549817                8.650861              26.799323   \n",
      "4                 40.493601               12.111517              47.394881   \n",
      "5                 59.243086               28.039531              12.717383   \n",
      "6                 56.480158               32.153457              11.366385   \n",
      "7                 57.327917               15.085084              27.587000   \n",
      "8                 27.961216               38.351677              33.687107   \n",
      "9                 45.026664               24.437746              30.535590   \n",
      "\n",
      "   rainfall_impact_annual_precipitation_in_mm  groundwater_depletion_rate_%  \\\n",
      "0                                   -0.564455                      0.369538   \n",
      "1                                    1.293606                     -0.559027   \n",
      "2                                    1.568275                      1.094100   \n",
      "3                                    0.212285                     -1.382073   \n",
      "4                                   -0.668192                     -1.248416   \n",
      "5                                   -0.114923                     -0.347990   \n",
      "6                                   -0.911229                      0.679060   \n",
      "7                                   -1.147075                      0.650921   \n",
      "8                                   -0.019762                     -0.474612   \n",
      "9                                    0.822571                      0.657956   \n",
      "\n",
      "   water_scarcity_level_numeric  is_high_scarcity  country_code  \\\n",
      "0                             0             False            11   \n",
      "1                             2              True            11   \n",
      "2                             1             False            12   \n",
      "3                             2              True            13   \n",
      "4                             2              True            14   \n",
      "5                             1             False            15   \n",
      "6                             0             False            15   \n",
      "7                             0             False            16   \n",
      "8                             2              True            12   \n",
      "9                             2              True            17   \n",
      "\n",
      "   water_use_efficiency  total_sector_use_%  \n",
      "0              0.832481               100.0  \n",
      "1              0.191163               100.0  \n",
      "2              0.294828               100.0  \n",
      "3              0.465569               100.0  \n",
      "4              0.421270               100.0  \n",
      "5              0.163807               100.0  \n",
      "6              0.524873               100.0  \n",
      "7              1.409150               100.0  \n",
      "8              0.153704               100.0  \n",
      "9              0.236628               100.0  \n"
     ]
    }
   ],
   "source": [
    "print(df.head(10))"
   ]
  },
  {
   "cell_type": "code",
   "execution_count": null,
   "id": "5ad9a538-4e72-46a4-9d95-d9cc2438f00c",
   "metadata": {},
   "outputs": [],
   "source": []
  }
 ],
 "metadata": {
  "kernelspec": {
   "display_name": "base",
   "language": "python",
   "name": "python3"
  },
  "language_info": {
   "codemirror_mode": {
    "name": "ipython",
    "version": 3
   },
   "file_extension": ".py",
   "mimetype": "text/x-python",
   "name": "python",
   "nbconvert_exporter": "python",
   "pygments_lexer": "ipython3",
   "version": "3.12.7"
  }
 },
 "nbformat": 4,
 "nbformat_minor": 5
}
