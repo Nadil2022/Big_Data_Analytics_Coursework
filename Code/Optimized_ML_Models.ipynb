{
 "cells": [
  {
   "cell_type": "markdown",
   "id": "6d75dc77",
   "metadata": {},
   "source": [
    "# Optimized Data Analysis and Modeling"
   ]
  },
  {
   "cell_type": "markdown",
   "id": "4aa8cbdd",
   "metadata": {},
   "source": [
    "### STEP 1 - IMPORT LIBRARIES"
   ]
  },
  {
   "cell_type": "code",
   "execution_count": 8,
   "id": "555a9001",
   "metadata": {},
   "outputs": [
    {
     "name": "stdout",
     "output_type": "stream",
     "text": [
      "Libraries imported successfully!\n"
     ]
    }
   ],
   "source": [
    "\n",
    "# Importing essential libraries\n",
    "import pandas as pd\n",
    "import numpy as np\n",
    "import matplotlib.pyplot as plt\n",
    "import seaborn as sns\n",
    "from sklearn.model_selection import train_test_split, cross_val_score, GridSearchCV\n",
    "from sklearn.preprocessing import StandardScaler\n",
    "from sklearn.impute import SimpleImputer\n",
    "from sklearn.ensemble import RandomForestRegressor, GradientBoostingRegressor\n",
    "from sklearn.linear_model import LinearRegression\n",
    "from sklearn.metrics import mean_squared_error, r2_score\n",
    "import warnings\n",
    "\n",
    "# Setting display options\n",
    "pd.set_option('display.max_columns', None)\n",
    "plt.style.use('ggplot')\n",
    "sns.set(style=\"whitegrid\")\n",
    "warnings.filterwarnings('ignore')\n",
    "\n",
    "print(\"Libraries imported successfully!\")\n"
   ]
  },
  {
   "cell_type": "markdown",
   "id": "324c64ac",
   "metadata": {},
   "source": [
    "### STEP 2 - LOAD AND INSPECT THE DATASET"
   ]
  },
  {
   "cell_type": "code",
   "execution_count": 9,
   "id": "9a9a471c",
   "metadata": {},
   "outputs": [
    {
     "name": "stdout",
     "output_type": "stream",
     "text": [
      "<class 'pandas.core.frame.DataFrame'>\n",
      "RangeIndex: 5000 entries, 0 to 4999\n",
      "Data columns (total 10 columns):\n",
      " #   Column                                          Non-Null Count  Dtype  \n",
      "---  ------                                          --------------  -----  \n",
      " 0   Country                                         5000 non-null   object \n",
      " 1   Year                                            5000 non-null   int64  \n",
      " 2   Total Water Consumption (Billion Cubic Meters)  5000 non-null   float64\n",
      " 3   Per Capita Water Use (Liters per Day)           5000 non-null   float64\n",
      " 4   Water Scarcity Level                            5000 non-null   object \n",
      " 5   Agricultural Water Use (%)                      5000 non-null   float64\n",
      " 6   Industrial Water Use (%)                        5000 non-null   float64\n",
      " 7   Household Water Use (%)                         5000 non-null   float64\n",
      " 8   Rainfall Impact (Annual Precipitation in mm)    5000 non-null   float64\n",
      " 9   Groundwater Depletion Rate (%)                  5000 non-null   float64\n",
      "dtypes: float64(7), int64(1), object(2)\n",
      "memory usage: 390.8+ KB\n"
     ]
    },
    {
     "data": {
      "text/plain": [
       "(     Country  Year  Total Water Consumption (Billion Cubic Meters)  \\\n",
       " 0  Indonesia  2022                                          895.15   \n",
       " 1  Indonesia  2024                                          502.89   \n",
       " 2      Spain  2000                                          843.39   \n",
       " 3     Canada  2021                                          803.34   \n",
       " 4     Brazil  2022                                          416.40   \n",
       " \n",
       "    Per Capita Water Use (Liters per Day) Water Scarcity Level  \\\n",
       " 0                                 489.73                  Low   \n",
       " 1                                 311.95                 High   \n",
       " 2                                 440.09               Medium   \n",
       " 3                                 478.98                 High   \n",
       " 4                                 353.91                 High   \n",
       " \n",
       "    Agricultural Water Use (%)  Industrial Water Use (%)  \\\n",
       " 0                       20.78                     13.75   \n",
       " 1                       48.51                      8.44   \n",
       " 2                       25.16                     31.70   \n",
       " 3                       45.74                      6.13   \n",
       " 4                       26.58                      7.95   \n",
       " \n",
       "    Household Water Use (%)  Rainfall Impact (Annual Precipitation in mm)  \\\n",
       " 0                    34.99                                       1075.28   \n",
       " 1                    32.88                                       2630.69   \n",
       " 2                    34.62                                       2860.62   \n",
       " 3                    18.99                                       1725.50   \n",
       " 4                    31.11                                        988.44   \n",
       " \n",
       "    Groundwater Depletion Rate (%)  \n",
       " 0                            3.10  \n",
       " 1                            1.78  \n",
       " 2                            4.13  \n",
       " 3                            0.61  \n",
       " 4                            0.80  ,\n",
       " None)"
      ]
     },
     "execution_count": 9,
     "metadata": {},
     "output_type": "execute_result"
    }
   ],
   "source": [
    "\n",
    "# Load dataset (modifying the path to a dynamic one)\n",
    "df = pd.read_csv(\"data.csv\")\n",
    "\n",
    "# Display first few rows and dataset info\n",
    "df.head(), df.info()\n"
   ]
  },
  {
   "cell_type": "markdown",
   "id": "06958ee7",
   "metadata": {},
   "source": [
    "### STEP 3 - DATA OVERVIEW AND INFORMATION"
   ]
  },
  {
   "cell_type": "code",
   "execution_count": 10,
   "id": "f656956d",
   "metadata": {},
   "outputs": [
    {
     "data": {
      "text/plain": [
       "(              Year  Total Water Consumption (Billion Cubic Meters)  \\\n",
       " count  5000.000000                                     5000.000000   \n",
       " mean   2012.204400                                      503.459606   \n",
       " std       7.205484                                      284.457947   \n",
       " min    2000.000000                                       10.050000   \n",
       " 25%    2006.000000                                      259.677500   \n",
       " 50%    2012.000000                                      499.515000   \n",
       " 75%    2018.000000                                      751.797500   \n",
       " max    2024.000000                                      999.680000   \n",
       " \n",
       "        Per Capita Water Use (Liters per Day)  Agricultural Water Use (%)  \\\n",
       " count                            5000.000000                 5000.000000   \n",
       " mean                              276.034040                   50.281704   \n",
       " std                               129.853417                   17.397782   \n",
       " min                                50.110000                   20.010000   \n",
       " 25%                               163.710000                   35.277500   \n",
       " 50%                               277.445000                   50.215000   \n",
       " 75%                               388.975000                   65.480000   \n",
       " max                               499.970000                   79.990000   \n",
       " \n",
       "        Industrial Water Use (%)  Household Water Use (%)  \\\n",
       " count               5000.000000              5000.000000   \n",
       " mean                  27.753878                24.814150   \n",
       " std                   12.873524                 8.676702   \n",
       " min                    5.000000                10.000000   \n",
       " 25%                   16.787500                17.370000   \n",
       " 50%                   27.980000                24.800000   \n",
       " 75%                   38.822500                32.322500   \n",
       " max                   50.000000                40.000000   \n",
       " \n",
       "        Rainfall Impact (Annual Precipitation in mm)  \\\n",
       " count                                   5000.000000   \n",
       " mean                                    1547.793364   \n",
       " std                                      837.198704   \n",
       " min                                      100.590000   \n",
       " 25%                                      833.552500   \n",
       " 50%                                     1535.670000   \n",
       " 75%                                     2273.147500   \n",
       " max                                     2998.340000   \n",
       " \n",
       "        Groundwater Depletion Rate (%)  \n",
       " count                     5000.000000  \n",
       " mean                         2.574684  \n",
       " std                          1.421690  \n",
       " min                          0.100000  \n",
       " 25%                          1.337500  \n",
       " 50%                          2.590000  \n",
       " 75%                          3.822500  \n",
       " max                          5.000000  ,\n",
       " Country                                           0\n",
       " Year                                              0\n",
       " Total Water Consumption (Billion Cubic Meters)    0\n",
       " Per Capita Water Use (Liters per Day)             0\n",
       " Water Scarcity Level                              0\n",
       " Agricultural Water Use (%)                        0\n",
       " Industrial Water Use (%)                          0\n",
       " Household Water Use (%)                           0\n",
       " Rainfall Impact (Annual Precipitation in mm)      0\n",
       " Groundwater Depletion Rate (%)                    0\n",
       " dtype: int64)"
      ]
     },
     "execution_count": 10,
     "metadata": {},
     "output_type": "execute_result"
    }
   ],
   "source": [
    "\n",
    "# Checking for missing values, basic stats, and columns\n",
    "df.describe(), df.isnull().sum()\n"
   ]
  },
  {
   "cell_type": "markdown",
   "id": "893beef7",
   "metadata": {},
   "source": [
    "### STEP 4 - DATA PREPROCESSING"
   ]
  },
  {
   "cell_type": "code",
   "execution_count": 11,
   "id": "dda76656",
   "metadata": {},
   "outputs": [],
   "source": [
    "'''\n",
    "# Data preprocessing pipeline (handling missing data and scaling)\n",
    "X = df.drop('target_column', axis=1)  # Replace 'target_column' with actual column name\n",
    "y = df['target_column']\n",
    "\n",
    "# Data Preprocessing: Impute missing values and scale the data\n",
    "from sklearn.compose import ColumnTransformer\n",
    "from sklearn.pipeline import Pipeline\n",
    "\n",
    "# Impute missing values and scale numeric features\n",
    "numeric_features = X.select_dtypes(include=['int64', 'float64']).columns\n",
    "numeric_transformer = Pipeline(steps=[\n",
    "    ('imputer', SimpleImputer(strategy='mean')), \n",
    "    ('scaler', StandardScaler())\n",
    "])\n",
    "\n",
    "# Apply transformations to the numeric features\n",
    "preprocessor = ColumnTransformer(\n",
    "    transformers=[\n",
    "        ('num', numeric_transformer, numeric_features)\n",
    "    ])\n",
    "\n",
    "# Fit and transform the features\n",
    "X_processed = preprocessor.fit_transform(X)'''\n",
    "\n",
    "# Correcting the code for preprocessing\n",
    "target_column = 'Total Water Consumption (Billion Cubic Meters)'  # This is the target variable\n",
    "\n",
    "# Features (X) and target (y)\n",
    "X = df.drop(target_column, axis=1)\n",
    "y = df[target_column]\n",
    "\n",
    "# Data Preprocessing: Impute missing values and scale the data\n",
    "from sklearn.compose import ColumnTransformer\n",
    "from sklearn.pipeline import Pipeline\n",
    "from sklearn.preprocessing import StandardScaler\n",
    "from sklearn.impute import SimpleImputer\n",
    "\n",
    "# Select numeric features\n",
    "numeric_features = X.select_dtypes(include=['int64', 'float64']).columns\n",
    "numeric_transformer = Pipeline(steps=[\n",
    "    ('imputer', SimpleImputer(strategy='mean')),\n",
    "    ('scaler', StandardScaler())\n",
    "])\n",
    "\n",
    "# Apply transformations to the numeric features\n",
    "preprocessor = ColumnTransformer(\n",
    "    transformers=[\n",
    "        ('num', numeric_transformer, numeric_features)\n",
    "    ])\n",
    "\n",
    "# Fit and transform the features\n",
    "X_processed = preprocessor.fit_transform(X)\n",
    "\n"
   ]
  },
  {
   "cell_type": "markdown",
   "id": "3e477a6d",
   "metadata": {},
   "source": [
    "### STEP 5 - MODEL SELECTION AND EVALUATION"
   ]
  },
  {
   "cell_type": "code",
   "execution_count": 12,
   "id": "37c73f89",
   "metadata": {},
   "outputs": [
    {
     "data": {
      "text/html": [
       "<div>\n",
       "<style scoped>\n",
       "    .dataframe tbody tr th:only-of-type {\n",
       "        vertical-align: middle;\n",
       "    }\n",
       "\n",
       "    .dataframe tbody tr th {\n",
       "        vertical-align: top;\n",
       "    }\n",
       "\n",
       "    .dataframe thead th {\n",
       "        text-align: right;\n",
       "    }\n",
       "</style>\n",
       "<table border=\"1\" class=\"dataframe\">\n",
       "  <thead>\n",
       "    <tr style=\"text-align: right;\">\n",
       "      <th></th>\n",
       "      <th>Linear Regression</th>\n",
       "      <th>Random Forest</th>\n",
       "      <th>Gradient Boosting</th>\n",
       "    </tr>\n",
       "  </thead>\n",
       "  <tbody>\n",
       "    <tr>\n",
       "      <th>MSE</th>\n",
       "      <td>78829.512280</td>\n",
       "      <td>82000.678621</td>\n",
       "      <td>81367.361505</td>\n",
       "    </tr>\n",
       "    <tr>\n",
       "      <th>RMSE</th>\n",
       "      <td>280.765939</td>\n",
       "      <td>286.357606</td>\n",
       "      <td>285.249648</td>\n",
       "    </tr>\n",
       "    <tr>\n",
       "      <th>R2</th>\n",
       "      <td>0.000886</td>\n",
       "      <td>-0.039306</td>\n",
       "      <td>-0.031279</td>\n",
       "    </tr>\n",
       "  </tbody>\n",
       "</table>\n",
       "</div>"
      ],
      "text/plain": [
       "      Linear Regression  Random Forest  Gradient Boosting\n",
       "MSE        78829.512280   82000.678621       81367.361505\n",
       "RMSE         280.765939     286.357606         285.249648\n",
       "R2             0.000886      -0.039306          -0.031279"
      ]
     },
     "execution_count": 12,
     "metadata": {},
     "output_type": "execute_result"
    }
   ],
   "source": [
    "\n",
    "# Train-test split\n",
    "X_train, X_test, y_train, y_test = train_test_split(X_processed, y, test_size=0.2, random_state=42)\n",
    "\n",
    "# Create models\n",
    "models = {\n",
    "    'Linear Regression': LinearRegression(),\n",
    "    'Random Forest': RandomForestRegressor(),\n",
    "    'Gradient Boosting': GradientBoostingRegressor()\n",
    "}\n",
    "\n",
    "# Train, evaluate and compare models\n",
    "results = {}\n",
    "for name, model in models.items():\n",
    "    model.fit(X_train, y_train)\n",
    "    y_pred = model.predict(X_test)\n",
    "    \n",
    "    # Evaluation metrics\n",
    "    mse = mean_squared_error(y_test, y_pred)\n",
    "    rmse = np.sqrt(mse)\n",
    "    r2 = r2_score(y_test, y_pred)\n",
    "    \n",
    "    results[name] = {'MSE': mse, 'RMSE': rmse, 'R2': r2}\n",
    "\n",
    "# Display results\n",
    "pd.DataFrame(results)\n"
   ]
  }
 ],
 "metadata": {
  "kernelspec": {
   "display_name": "base",
   "language": "python",
   "name": "python3"
  },
  "language_info": {
   "codemirror_mode": {
    "name": "ipython",
    "version": 3
   },
   "file_extension": ".py",
   "mimetype": "text/x-python",
   "name": "python",
   "nbconvert_exporter": "python",
   "pygments_lexer": "ipython3",
   "version": "3.12.7"
  }
 },
 "nbformat": 4,
 "nbformat_minor": 5
}
